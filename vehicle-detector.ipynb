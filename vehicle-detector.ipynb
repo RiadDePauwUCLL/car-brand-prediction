{
 "cells": [
  {
   "cell_type": "code",
   "execution_count": 1,
   "id": "d92b5803",
   "metadata": {},
   "outputs": [
    {
     "name": "stdout",
     "output_type": "stream",
     "text": [
      "Hardware detected: CPU\n",
      "CPU Only Mode\n",
      "Platform: Windows-10-10.0.19045-SP0\n",
      "Processor: AMD64 Family 25 Model 97 Stepping 2, AuthenticAMD\n",
      "Using CPU only mode\n"
     ]
    }
   ],
   "source": [
    "import subprocess\n",
    "import platform\n",
    "import os\n",
    "\n",
    "def get_hardware_info():\n",
    "    \"\"\"Detect available compute hardware (NVIDIA GPU, AMD GPU, or CPU)\"\"\"\n",
    "    \n",
    "    # Check for NVIDIA GPU\n",
    "    try:\n",
    "        nvidia_info = subprocess.check_output(['nvidia-smi'], stderr=subprocess.PIPE).decode('utf-8')\n",
    "        return \"nvidia\", nvidia_info\n",
    "    except (subprocess.SubprocessError, FileNotFoundError):\n",
    "        pass  # NVIDIA GPU not found or nvidia-smi not available\n",
    "    \n",
    "    # Check for AMD GPU via rocm-smi\n",
    "    try:\n",
    "        amd_info = subprocess.check_output(['rocm-smi'], stderr=subprocess.PIPE).decode('utf-8')\n",
    "        return \"amd\", amd_info\n",
    "    except (subprocess.SubprocessError, FileNotFoundError):\n",
    "        pass  # AMD GPU not found or rocm-smi not available\n",
    "    \n",
    "    # If no GPU available, return CPU information\n",
    "    cpu_info = f\"CPU Only Mode\\n\"\n",
    "    \n",
    "    # Try to get CPU details depending on platform\n",
    "    if platform.system() == \"Linux\":\n",
    "        try:\n",
    "            cpu_details = subprocess.check_output('lscpu', shell=True).decode('utf-8')\n",
    "            cpu_info += cpu_details\n",
    "        except:\n",
    "            cpu_info += f\"Platform: {platform.platform()}\\nProcessor: {platform.processor()}\"\n",
    "    elif platform.system() == \"Windows\":\n",
    "        cpu_info += f\"Platform: {platform.platform()}\\nProcessor: {platform.processor()}\"\n",
    "    else:  # macOS or others\n",
    "        cpu_info += f\"Platform: {platform.platform()}\\nProcessor: {platform.processor()}\"\n",
    "    \n",
    "    return \"cpu\", cpu_info\n",
    "\n",
    "# Get and display hardware information\n",
    "hardware_type, hardware_info = get_hardware_info()\n",
    "\n",
    "print(f\"Hardware detected: {hardware_type.upper()}\")\n",
    "print(hardware_info)\n",
    "\n",
    "# Set environment variables based on detected hardware\n",
    "if hardware_type == \"nvidia\":\n",
    "    os.environ[\"CUDA_VISIBLE_DEVICES\"] = \"0\"\n",
    "    print(\"Using NVIDIA GPU with CUDA\")\n",
    "elif hardware_type == \"amd\":\n",
    "    os.environ[\"HIP_VISIBLE_DEVICES\"] = \"0\"\n",
    "    print(\"Using AMD GPU with ROCm\")\n",
    "else:\n",
    "    # For CPU-only mode, you might want to optimize for CPU\n",
    "    print(\"Using CPU only mode\")"
   ]
  },
  {
   "cell_type": "code",
   "execution_count": 2,
   "id": "e834b392",
   "metadata": {},
   "outputs": [
    {
     "name": "stdout",
     "output_type": "stream",
     "text": [
      "Your runtime has 33.5 gigabytes of available RAM\n",
      "\n",
      "You are using a high-RAM runtime!\n"
     ]
    }
   ],
   "source": [
    "from psutil import virtual_memory\n",
    "ram_gb = virtual_memory().total / 1e9\n",
    "print('Your runtime has {:.1f} gigabytes of available RAM\\n'.format(ram_gb))\n",
    "\n",
    "if ram_gb < 20:\n",
    "  print('Not using a high-RAM runtime')\n",
    "else:\n",
    "  print('You are using a high-RAM runtime!')\n",
    "     "
   ]
  },
  {
   "cell_type": "code",
   "execution_count": 3,
   "id": "ea6b30bd",
   "metadata": {},
   "outputs": [],
   "source": [
    "# Importing everything that is necessary\n",
    "\n",
    "import numpy as np\n",
    "import cv2 as cv\n",
    "import scipy.io\n",
    "from tqdm import tqdm\n",
    "import random\n",
    "import shutil\n",
    "     "
   ]
  }
 ],
 "metadata": {
  "kernelspec": {
   "display_name": "Python 3",
   "language": "python",
   "name": "python3"
  },
  "language_info": {
   "codemirror_mode": {
    "name": "ipython",
    "version": 3
   },
   "file_extension": ".py",
   "mimetype": "text/x-python",
   "name": "python",
   "nbconvert_exporter": "python",
   "pygments_lexer": "ipython3",
   "version": "3.11.5"
  }
 },
 "nbformat": 4,
 "nbformat_minor": 5
}
