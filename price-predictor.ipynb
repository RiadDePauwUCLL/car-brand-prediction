{
 "cells": [
  {
   "cell_type": "markdown",
   "id": "b7c980ec",
   "metadata": {},
   "source": [
    "# Car Price Predictor"
   ]
  },
  {
   "cell_type": "markdown",
   "id": "2bf40415",
   "metadata": {},
   "source": [
    "Predicting car prices requires a lot of resource & data & at this moment I don't have enough to be able to provide accurate price predictions. It requires a more throughout dataset but also have the authorization to use that type of data as it's usually quite private & hard to find for educational purposes."
   ]
  },
  {
   "cell_type": "markdown",
   "id": "d93896ae",
   "metadata": {},
   "source": [
    "I made a simple cell under that could provide some kind of price \"prediction\", but it's honestly not viable or even a reliable source of information as it doesn't really train anything."
   ]
  },
  {
   "cell_type": "code",
   "execution_count": null,
   "id": "4a9cfe22",
   "metadata": {},
   "outputs": [],
   "source": [
    "import numpy as np\n",
    "import pandas as pd\n",
    "\n",
    "# Load your dataset\n",
    "df = pd.read_csv(\"./processed_data/combined_cars.csv\")\n",
    "df.columns = df.columns.str.lower()\n",
    "\n",
    "# Basic brand price mapping\n",
    "brand_price_map = {\n",
    "    'BMW': 50000, 'Mercedes': 55000, 'Lexus': 45000, 'Audi': 48000,\n",
    "    'Toyota': 30000, 'Ford': 25000, 'Hyundai': 20000, 'Kia': 22000,\n",
    "    'Volkswagen': 28000, 'Chevrolet': 24000, 'Honda': 26000, 'Nissan': 25000,\n",
    "    'Land Rover': 60000, 'Jeep': 40000, 'Porsche': 80000, 'Ferrari': 150000,\n",
    "    'Tata': 10000, 'Maruti': 8000, 'Mahindra': 12000, 'Skoda': 23000,\n",
    "    'Renault': 21000, 'Jaguar': 70000\n",
    "}\n",
    "\n",
    "# Proxy function\n",
    "def proxy_price(row):\n",
    "    base = brand_price_map.get(row['make'], 20000)\n",
    "    year_factor = (row['year'] - 2000) * 800 if row['year'] > 2000 else 0\n",
    "    transmission_bonus = 1500 if str(row['transmission']).lower() == 'automatic' else 0\n",
    "    fuel = str(row['fuel']).lower()\n",
    "    fuel_factor = {\n",
    "        'electric': 5000, 'hybrid': 4000, 'diesel': 2000,\n",
    "        'petrol': 1000, 'gas': 500, 'unknown': 0\n",
    "    }.get(fuel, 0)\n",
    "    \n",
    "    return base + year_factor + transmission_bonus + fuel_factor\n",
    "\n",
    "# Fill missing prices\n",
    "df['price'] = df.apply(lambda row: row['price'] if pd.notna(row['price']) else proxy_price(row), axis=1)\n",
    "\n",
    "# Save or continue with modeling\n",
    "df.to_csv(\"./processed_data/cars_with_estimated_prices.csv\", index=False)\n",
    "\n"
   ]
  }
 ],
 "metadata": {
  "kernelspec": {
   "display_name": "Python 3",
   "language": "python",
   "name": "python3"
  },
  "language_info": {
   "codemirror_mode": {
    "name": "ipython",
    "version": 3
   },
   "file_extension": ".py",
   "mimetype": "text/x-python",
   "name": "python",
   "nbconvert_exporter": "python",
   "pygments_lexer": "ipython3",
   "version": "3.11.5"
  }
 },
 "nbformat": 4,
 "nbformat_minor": 5
}
